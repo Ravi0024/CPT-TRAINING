{
 "cells": [
  {
   "cell_type": "code",
   "execution_count": 1,
   "id": "dd21238f-fe00-439c-b074-248b2ba76a3e",
   "metadata": {},
   "outputs": [],
   "source": [
    "#linear / head"
   ]
  },
  {
   "cell_type": "code",
   "execution_count": 7,
   "id": "5889fecb-b479-4c52-a848-3c6316b0fc5b",
   "metadata": {},
   "outputs": [
    {
     "name": "stdin",
     "output_type": "stream",
     "text": [
      "Enter the Values:  2\n"
     ]
    },
    {
     "name": "stdout",
     "output_type": "stream",
     "text": [
      "1\n",
      "2\n",
      "1\n"
     ]
    },
    {
     "name": "stdin",
     "output_type": "stream",
     "text": [
      "Enter the value: 3\n"
     ]
    },
    {
     "name": "stdout",
     "output_type": "stream",
     "text": [
      "1\n",
      "2\n",
      "3\n"
     ]
    }
   ],
   "source": [
    "def hrec(n):\n",
    "    if n==0:\n",
    "        return\n",
    "    hrec(n-1)\n",
    "    print(n)\n",
    "    return hrec(n-1)\n",
    "\n",
    "num=int(input(\"Enter the Values: \"))\n",
    "hrec(num)\n",
    "\n",
    "def hrec(n):\n",
    "    if n==0:\n",
    "        return\n",
    "    hrec(n-1)\n",
    "    print(n)\n",
    "\n",
    "num=int(input(\"Enter the value:\"))\n",
    "hrec(num)"
   ]
  },
  {
   "cell_type": "code",
   "execution_count": 9,
   "id": "56410298-036c-406f-9fbb-ca1cb6ea641f",
   "metadata": {},
   "outputs": [],
   "source": [
    "#linear recursion factorial"
   ]
  },
  {
   "cell_type": "code",
   "execution_count": 15,
   "id": "e2c5d283-c38b-4dc9-890b-90e4653512f8",
   "metadata": {},
   "outputs": [
    {
     "name": "stdin",
     "output_type": "stream",
     "text": [
      "Enter a number: 12\n"
     ]
    },
    {
     "name": "stdout",
     "output_type": "stream",
     "text": [
      "Factorial: 479001600\n"
     ]
    }
   ],
   "source": [
    "def fact(n):\n",
    "    if n==1:\n",
    "        return 1\n",
    "    return n*fact(n-1)\n",
    "num=int(input(\"Enter a number:\"))\n",
    "print(\"Factorial:\",fact(num))"
   ]
  },
  {
   "cell_type": "code",
   "execution_count": 31,
   "id": "f3c8d25e-5965-4d2e-bdcd-9df7f16f3dee",
   "metadata": {},
   "outputs": [
    {
     "name": "stdin",
     "output_type": "stream",
     "text": [
      "Enter n: 23\n"
     ]
    },
    {
     "name": "stdout",
     "output_type": "stream",
     "text": [
      "5\n"
     ]
    }
   ],
   "source": [
    "def sumD(n):\n",
    "    if n==0:\n",
    "        return 0\n",
    "    return (n%10)+sumD(n//10)\n",
    "    \n",
    "num=int(input(\"Enter n:\"))\n",
    "print(sumD(num))"
   ]
  },
  {
   "cell_type": "code",
   "execution_count": 37,
   "id": "06030ad1-88f2-4929-81d7-efa14273f9ce",
   "metadata": {},
   "outputs": [
    {
     "name": "stdin",
     "output_type": "stream",
     "text": [
      "Enter the value of n: 5\n"
     ]
    },
    {
     "name": "stdout",
     "output_type": "stream",
     "text": [
      "one: 5\n",
      "two: 4\n",
      "one: 2\n",
      "two: 1\n"
     ]
    }
   ],
   "source": [
    "#indirect rec\n",
    "def one(n):\n",
    "    if n>0:\n",
    "        print(\"one:\",n)\n",
    "        two(n-1)\n",
    "def two(n):\n",
    "    if n>0:\n",
    "        print(\"two:\",n)\n",
    "        one(n//2)\n",
    "num=int(input(\"Enter the value of n:\"))\n",
    "one(num)"
   ]
  },
  {
   "cell_type": "code",
   "execution_count": 39,
   "id": "14f1435c-49b4-4ec3-a035-426b4f5764f4",
   "metadata": {},
   "outputs": [
    {
     "data": {
      "text/plain": [
       "'write a code to check the given number is even or odd using\\nin-direct recursie method with boolean output:\\ninput: 5\\noutput: 5 is even? False'"
      ]
     },
     "execution_count": 39,
     "metadata": {},
     "output_type": "execute_result"
    }
   ],
   "source": [
    "'''write a code to check the given number is even or odd using\n",
    "in-direct recursie method with boolean output:\n",
    "input: 5\n",
    "output: 5 is even? False'''"
   ]
  },
  {
   "cell_type": "code",
   "execution_count": 43,
   "id": "1821c4a0-df04-49d3-aa38-392768f3a2c8",
   "metadata": {},
   "outputs": [
    {
     "name": "stdout",
     "output_type": "stream",
     "text": [
      "5 is even? False\n"
     ]
    }
   ],
   "source": [
    "def is_even_recursive(n, is_even=True):\n",
    "   \n",
    "    if n == 0:\n",
    "        return is_even\n",
    "    elif n == 1:\n",
    "        return not is_even\n",
    "    else:\n",
    "        return is_even_recursive(n - 2, is_even)\n",
    "\n",
    "def is_odd(n):\n",
    "   \n",
    "    return not is_even_recursive(n)\n",
    "\n",
    "def check_even_or_odd(number):\n",
    "  \n",
    "  if is_odd(number):\n",
    "    return f\"{number} is even? False\"\n",
    "  else:\n",
    "    return f\"{number} is even? True\"\n",
    "\n",
    "\n",
    "# Example usage:\n",
    "number = 5\n",
    "result = check_even_or_odd(number)\n",
    "print(result)\n"
   ]
  },
  {
   "cell_type": "code",
   "execution_count": 47,
   "id": "0dbbe923-e530-49e3-9a24-5d50ddb314bf",
   "metadata": {},
   "outputs": [
    {
     "name": "stdin",
     "output_type": "stream",
     "text": [
      "Enter any number:  4\n"
     ]
    },
    {
     "name": "stdout",
     "output_type": "stream",
     "text": [
      "4 is even? True\n"
     ]
    }
   ],
   "source": [
    "def is_even(n):\n",
    "    if n==0:\n",
    "        return True\n",
    "    return is_odd(n-1)\n",
    "def is_odd(n):\n",
    "    if n==0:\n",
    "        return False\n",
    "    return is_even(n-1)\n",
    "num=int(input(\"Enter any number: \"))\n",
    "print(num,\"is even?\",is_even(num))"
   ]
  },
  {
   "cell_type": "code",
   "execution_count": 49,
   "id": "0afeffcd-37fa-4497-acec-7a024c5f9674",
   "metadata": {},
   "outputs": [
    {
     "name": "stdout",
     "output_type": "stream",
     "text": [
      "3\n",
      "2\n",
      "1\n",
      "0\n",
      "0\n",
      "1\n",
      "0\n"
     ]
    }
   ],
   "source": [
    "def tree(n):\n",
    "    if n<0:\n",
    "        return\n",
    "    print(n)\n",
    "    tree(n-1)\n",
    "    tree(n-2)\n",
    "tree(3)"
   ]
  },
  {
   "cell_type": "code",
   "execution_count": 51,
   "id": "32fe90ce-973c-49c7-aa45-88f93ff17b3f",
   "metadata": {},
   "outputs": [
    {
     "ename": "RecursionError",
     "evalue": "maximum recursion depth exceeded",
     "output_type": "error",
     "traceback": [
      "\u001b[1;31m---------------------------------------------------------------------------\u001b[0m",
      "\u001b[1;31mRecursionError\u001b[0m                            Traceback (most recent call last)",
      "Cell \u001b[1;32mIn[51], line 5\u001b[0m\n\u001b[0;32m      3\u001b[0m         \u001b[38;5;28;01mreturn\u001b[39;00m n\u001b[38;5;241m-\u001b[39m\u001b[38;5;241m1\u001b[39m\n\u001b[0;32m      4\u001b[0m     \u001b[38;5;28;01mreturn\u001b[39;00m nest(nest(n\u001b[38;5;241m+\u001b[39m\u001b[38;5;241m1\u001b[39m))\n\u001b[1;32m----> 5\u001b[0m \u001b[38;5;28mprint\u001b[39m(nest(\u001b[38;5;241m5\u001b[39m))\n",
      "Cell \u001b[1;32mIn[51], line 4\u001b[0m, in \u001b[0;36mnest\u001b[1;34m(n)\u001b[0m\n\u001b[0;32m      2\u001b[0m \u001b[38;5;28;01mif\u001b[39;00m n\u001b[38;5;241m>\u001b[39m\u001b[38;5;241m10\u001b[39m:\n\u001b[0;32m      3\u001b[0m     \u001b[38;5;28;01mreturn\u001b[39;00m n\u001b[38;5;241m-\u001b[39m\u001b[38;5;241m1\u001b[39m\n\u001b[1;32m----> 4\u001b[0m \u001b[38;5;28;01mreturn\u001b[39;00m nest(nest(n\u001b[38;5;241m+\u001b[39m\u001b[38;5;241m1\u001b[39m))\n",
      "Cell \u001b[1;32mIn[51], line 4\u001b[0m, in \u001b[0;36mnest\u001b[1;34m(n)\u001b[0m\n\u001b[0;32m      2\u001b[0m \u001b[38;5;28;01mif\u001b[39;00m n\u001b[38;5;241m>\u001b[39m\u001b[38;5;241m10\u001b[39m:\n\u001b[0;32m      3\u001b[0m     \u001b[38;5;28;01mreturn\u001b[39;00m n\u001b[38;5;241m-\u001b[39m\u001b[38;5;241m1\u001b[39m\n\u001b[1;32m----> 4\u001b[0m \u001b[38;5;28;01mreturn\u001b[39;00m nest(nest(n\u001b[38;5;241m+\u001b[39m\u001b[38;5;241m1\u001b[39m))\n",
      "    \u001b[1;31m[... skipping similar frames: nest at line 4 (2974 times)]\u001b[0m\n",
      "Cell \u001b[1;32mIn[51], line 4\u001b[0m, in \u001b[0;36mnest\u001b[1;34m(n)\u001b[0m\n\u001b[0;32m      2\u001b[0m \u001b[38;5;28;01mif\u001b[39;00m n\u001b[38;5;241m>\u001b[39m\u001b[38;5;241m10\u001b[39m:\n\u001b[0;32m      3\u001b[0m     \u001b[38;5;28;01mreturn\u001b[39;00m n\u001b[38;5;241m-\u001b[39m\u001b[38;5;241m1\u001b[39m\n\u001b[1;32m----> 4\u001b[0m \u001b[38;5;28;01mreturn\u001b[39;00m nest(nest(n\u001b[38;5;241m+\u001b[39m\u001b[38;5;241m1\u001b[39m))\n",
      "\u001b[1;31mRecursionError\u001b[0m: maximum recursion depth exceeded"
     ]
    }
   ],
   "source": [
    "def nest(n):\n",
    "    if n>10:\n",
    "        return n-1\n",
    "    return nest(nest(n+1))\n",
    "print(nest(5))"
   ]
  },
  {
   "cell_type": "code",
   "execution_count": null,
   "id": "fc063dcf-6715-4429-a5b6-b9bd0863b4c9",
   "metadata": {},
   "outputs": [],
   "source": []
  }
 ],
 "metadata": {
  "kernelspec": {
   "display_name": "Python 3 (ipykernel)",
   "language": "python",
   "name": "python3"
  },
  "language_info": {
   "codemirror_mode": {
    "name": "ipython",
    "version": 3
   },
   "file_extension": ".py",
   "mimetype": "text/x-python",
   "name": "python",
   "nbconvert_exporter": "python",
   "pygments_lexer": "ipython3",
   "version": "3.12.7"
  }
 },
 "nbformat": 4,
 "nbformat_minor": 5
}
