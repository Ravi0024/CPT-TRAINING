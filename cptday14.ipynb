{
 "cells": [
  {
   "cell_type": "code",
   "execution_count": 7,
   "id": "7d20576d-f584-4610-badf-e2a1fbea4481",
   "metadata": {},
   "outputs": [
    {
     "data": {
      "text/plain": [
       "'single\\nmultiple\\nmulti-level\\nhierarichal\\nhybrid\\nmeta-inheritance\\n\\nuses-\\nreusability\\nextendable\\nhierarical representation\\n\\n        parent(superclass)\\n                |\\n         child(subclass)\\n'"
      ]
     },
     "execution_count": 7,
     "metadata": {},
     "output_type": "execute_result"
    }
   ],
   "source": [
    "'''single\n",
    "multiple\n",
    "multi-level\n",
    "hierarichal\n",
    "hybrid\n",
    "meta-inheritance\n",
    "\n",
    "uses-\n",
    "reusability\n",
    "extendable\n",
    "hierarical representation\n",
    "\n",
    "        parent(superclass)\n",
    "                |\n",
    "         child(subclass)\n",
    "'''"
   ]
  },
  {
   "cell_type": "code",
   "execution_count": 9,
   "id": "20427f15-c13e-4f59-84bf-c26efea6093b",
   "metadata": {},
   "outputs": [
    {
     "name": "stdout",
     "output_type": "stream",
     "text": [
      "Engine started....\n",
      "The car is being drove\n"
     ]
    }
   ],
   "source": [
    "#single-heritence.py\n",
    "class vehicle:\n",
    "    def start_engine(self):\n",
    "        print(\"Engine started....\")\n",
    "class car(vehicle):\n",
    "    def drive(self):\n",
    "        print(\"The car is being drove\")\n",
    "c=car()\n",
    "c.start_engine()   #inherited method\n",
    "c.drive()    #sub class own method\n"
   ]
  },
  {
   "cell_type": "code",
   "execution_count": 11,
   "id": "272f48ad-a26d-402a-8cfc-c5bb894301eb",
   "metadata": {},
   "outputs": [
    {
     "name": "stdout",
     "output_type": "stream",
     "text": [
      "I am a student\n",
      "The student is studying!!!\n"
     ]
    }
   ],
   "source": [
    "class person:\n",
    "    def info(self):\n",
    "        print(\"I am a student\")\n",
    "class student(person):\n",
    "    def study(self):\n",
    "        print(\"The student is studying!!!\")\n",
    "s=student()\n",
    "s.info()\n",
    "s.study()"
   ]
  },
  {
   "cell_type": "code",
   "execution_count": 15,
   "id": "7f149afa-a42b-4009-aef7-0e2b0f32d2be",
   "metadata": {},
   "outputs": [
    {
     "name": "stdin",
     "output_type": "stream",
     "text": [
      "Enter the value of num1: 4\n",
      "Enter the value of num2: 7\n"
     ]
    },
    {
     "name": "stdout",
     "output_type": "stream",
     "text": [
      "The result is 11\n"
     ]
    }
   ],
   "source": [
    "'''code to perform addition operation using superclass and\n",
    "    user input and sub class as operation\n",
    "    print the summated value at subclass'''\n",
    "\n",
    "class operate:\n",
    "    def userdata(self):\n",
    "        self.num1=int(input(\"Enter the value of num1:\"))\n",
    "        self.num2=int(input(\"Enter the value of num2:\"))\n",
    "class summate(operate):\n",
    "    def add(self):\n",
    "        result=self.num1+self.num2\n",
    "        print(f\"The result is {result}\")\n",
    "\n",
    "c=summate()\n",
    "c.userdata()\n",
    "c.add()"
   ]
  },
  {
   "cell_type": "code",
   "execution_count": 45,
   "id": "631bc8d4-bb12-401e-93ff-d0c0f715d30b",
   "metadata": {},
   "outputs": [
    {
     "name": "stdin",
     "output_type": "stream",
     "text": [
      "Enter numerator:  2\n",
      "Enter denominator:  0\n"
     ]
    },
    {
     "name": "stdout",
     "output_type": "stream",
     "text": [
      "Error: Division by zero is not allowed.\n"
     ]
    }
   ],
   "source": [
    "'''code to calculate normal division by considering input\n",
    "   in superclass and evaltion in subclass, \n",
    "   where zero division error must be handled.'''\n",
    "\n",
    "class DivisionInput:\n",
    "    def __init__(self, num, den):\n",
    "        self.num =  float(input(\"Enter numerator: \"))\n",
    "        self.den = float(input(\"Enter denominator: \"))\n",
    "\n",
    "class DivisionEvaluator(DivisionInput):\n",
    "    def perform_division(self):\n",
    "        try:\n",
    "            result = self.num / self.den\n",
    "            print(f\"Result: {result}\")\n",
    "        except ZeroDivisionError:\n",
    "            print(\"Error: Division by zero is not allowed.\")\n",
    "\n",
    "calc = DivisionEvaluator(num, den)\n",
    "calc.perform_division()\n"
   ]
  },
  {
   "cell_type": "code",
   "execution_count": 51,
   "id": "ddda5764-f499-45d1-9679-8b20288d3b2a",
   "metadata": {},
   "outputs": [
    {
     "name": "stdin",
     "output_type": "stream",
     "text": [
      "Enter num: 2\n",
      "Enter den: 0\n"
     ]
    },
    {
     "name": "stdout",
     "output_type": "stream",
     "text": [
      "Error : cannot be divided by zero\n"
     ]
    }
   ],
   "source": [
    "class operate:\n",
    "    def userinput(self):\n",
    "        self.num=float(input(\"Enter num:\"))\n",
    "        self.den=float(input(\"Enter den:\"))\n",
    "class divider(operate):\n",
    "    def div(self):\n",
    "        try:\n",
    "            result=self.num/self.den\n",
    "            print(f'result:{reult}')\n",
    "        except ZeroDivisionError:\n",
    "            print(\"Error : cannot be divided by zero\")\n",
    "c=divider()\n",
    "c.userinput()\n",
    "c.div()"
   ]
  },
  {
   "cell_type": "code",
   "execution_count": 55,
   "id": "993441f0-5de5-44b8-ad46-8a1c45cc9bc6",
   "metadata": {},
   "outputs": [
    {
     "name": "stdin",
     "output_type": "stream",
     "text": [
      "Enter name: RT\n",
      "enter employee id: 4412\n",
      "enter department: DS\n"
     ]
    },
    {
     "name": "stdout",
     "output_type": "stream",
     "text": [
      "Name:RT\n",
      "Employee ID:4412\n",
      "Department:DS\n"
     ]
    }
   ],
   "source": [
    "\n",
    "class intern: #super\n",
    "    def __init__(self,name):\n",
    "        self.name=name\n",
    "    def display_intern(self):\n",
    "        print(f\"Name:{self.name}\")\n",
    "\n",
    "class employee(intern): #class\n",
    "    def __init__(self,name,emp_id):\n",
    "        super().__init__(name)\n",
    "        self.emp_id=emp_id\n",
    "    def display_employee(self):\n",
    "        print(f\"Employee ID:{self.emp_id}\")\n",
    "\n",
    "class manager(employee): #sub class\n",
    "    def __init__(self,name,emp_id,dept):\n",
    "        super().__init__(name,emp_id)\n",
    "        self.dept=dept\n",
    "    def display_manager(self):\n",
    "        print(f\"Department:{self.dept}\")\n",
    "\n",
    "\n",
    "name=input(\"Enter name:\")\n",
    "emp_id=input(\"enter employee id:\")\n",
    "dept=input(\"enter department:\")\n",
    "m=manager(name,emp_id,dept)\n",
    "m.display_intern()\n",
    "m.display_employee()\n",
    "m.display_manager()"
   ]
  },
  {
   "cell_type": "code",
   "execution_count": 73,
   "id": "42703e24-73c5-4ce3-8624-d1c66667a9e3",
   "metadata": {},
   "outputs": [
    {
     "ename": "TypeError",
     "evalue": "input.__init__() takes 1 positional argument but 2 were given",
     "output_type": "error",
     "traceback": [
      "\u001b[1;31m---------------------------------------------------------------------------\u001b[0m",
      "\u001b[1;31mTypeError\u001b[0m                                 Traceback (most recent call last)",
      "Cell \u001b[1;32mIn[73], line 19\u001b[0m\n\u001b[0;32m     16\u001b[0m         \u001b[38;5;28mprint\u001b[39m(\u001b[38;5;124mf\u001b[39m\u001b[38;5;124m\"\u001b[39m\u001b[38;5;124msum:\u001b[39m\u001b[38;5;132;01m{\u001b[39;00m\u001b[38;5;28mself\u001b[39m\u001b[38;5;241m.\u001b[39madd()\u001b[38;5;132;01m}\u001b[39;00m\u001b[38;5;124m\"\u001b[39m)\n\u001b[0;32m     17\u001b[0m         \u001b[38;5;28mprint\u001b[39m(\u001b[38;5;124mf\u001b[39m\u001b[38;5;124m\"\u001b[39m\u001b[38;5;124mmultiply:\u001b[39m\u001b[38;5;132;01m{\u001b[39;00m\u001b[38;5;28mself\u001b[39m\u001b[38;5;241m.\u001b[39mmul()\u001b[38;5;132;01m}\u001b[39;00m\u001b[38;5;124m\"\u001b[39m)\n\u001b[1;32m---> 19\u001b[0m r\u001b[38;5;241m=\u001b[39m result()\n\u001b[0;32m     20\u001b[0m r\u001b[38;5;241m.\u001b[39mdisplay()\n",
      "Cell \u001b[1;32mIn[73], line 14\u001b[0m, in \u001b[0;36mresult.__init__\u001b[1;34m(self)\u001b[0m\n\u001b[0;32m     13\u001b[0m \u001b[38;5;28;01mdef\u001b[39;00m \u001b[38;5;21m__init__\u001b[39m(\u001b[38;5;28mself\u001b[39m):\n\u001b[1;32m---> 14\u001b[0m     \u001b[38;5;28msuper\u001b[39m()\u001b[38;5;241m.\u001b[39m\u001b[38;5;21m__init__\u001b[39m()\n",
      "Cell \u001b[1;32mIn[73], line 7\u001b[0m, in \u001b[0;36moperate.__init__\u001b[1;34m(self)\u001b[0m\n\u001b[0;32m      6\u001b[0m \u001b[38;5;28;01mdef\u001b[39;00m \u001b[38;5;21m__init__\u001b[39m(\u001b[38;5;28mself\u001b[39m):\n\u001b[1;32m----> 7\u001b[0m     \u001b[38;5;28msuper\u001b[39m()\u001b[38;5;241m.\u001b[39m\u001b[38;5;21m__init__\u001b[39m()\n\u001b[0;32m      8\u001b[0m     \u001b[38;5;28;01mdef\u001b[39;00m \u001b[38;5;21madd\u001b[39m(\u001b[38;5;28mself\u001b[39m):\n\u001b[0;32m      9\u001b[0m         \u001b[38;5;28;01mreturn\u001b[39;00m \u001b[38;5;28mself\u001b[39m\u001b[38;5;241m.\u001b[39mnum1\u001b[38;5;241m+\u001b[39m\u001b[38;5;28mself\u001b[39m\u001b[38;5;241m.\u001b[39mnum2\n",
      "Cell \u001b[1;32mIn[73], line 3\u001b[0m, in \u001b[0;36mInput.__init__\u001b[1;34m(self)\u001b[0m\n\u001b[0;32m      2\u001b[0m \u001b[38;5;28;01mdef\u001b[39;00m \u001b[38;5;21m__init__\u001b[39m(\u001b[38;5;28mself\u001b[39m):\n\u001b[1;32m----> 3\u001b[0m     \u001b[38;5;28mself\u001b[39m\u001b[38;5;241m.\u001b[39mnum1\u001b[38;5;241m=\u001b[39m\u001b[38;5;28mint\u001b[39m(\u001b[38;5;28minput\u001b[39m(\u001b[38;5;124m\"\u001b[39m\u001b[38;5;124mEnter num1:\u001b[39m\u001b[38;5;124m\"\u001b[39m))\n\u001b[0;32m      4\u001b[0m     \u001b[38;5;28mself\u001b[39m\u001b[38;5;241m.\u001b[39mnum2\u001b[38;5;241m=\u001b[39m\u001b[38;5;28mint\u001b[39m(\u001b[38;5;28minput\u001b[39m(\u001b[38;5;124m\"\u001b[39m\u001b[38;5;124mEnter num2:\u001b[39m\u001b[38;5;124m\"\u001b[39m))\n",
      "\u001b[1;31mTypeError\u001b[0m: input.__init__() takes 1 positional argument but 2 were given"
     ]
    }
   ],
   "source": [
    "class Input:\n",
    "    def __init__(self):\n",
    "        self.num1=int(input(\"Enter num1:\"))\n",
    "        self.num2=int(input(\"Enter num2:\"))\n",
    "class operate(Input):\n",
    "    def __init__(self):\n",
    "        super().__init__()\n",
    "        def add(self):\n",
    "            return self.num1+self.num2\n",
    "        def mul(self):\n",
    "            return self.num1*self.num2\n",
    "class result(operate):\n",
    "    def __init__(self):\n",
    "        super().__init__()\n",
    "    def display(self):\n",
    "        print(f\"sum:{self.add()}\")\n",
    "        print(f\"multiply:{self.mul()}\")\n",
    "\n",
    "r= result()\n",
    "r.display()"
   ]
  },
  {
   "cell_type": "code",
   "execution_count": null,
   "id": "b68ec372-8dad-4d00-aec2-6f72a5a6b7d7",
   "metadata": {},
   "outputs": [],
   "source": []
  }
 ],
 "metadata": {
  "kernelspec": {
   "display_name": "Python 3 (ipykernel)",
   "language": "python",
   "name": "python3"
  },
  "language_info": {
   "codemirror_mode": {
    "name": "ipython",
    "version": 3
   },
   "file_extension": ".py",
   "mimetype": "text/x-python",
   "name": "python",
   "nbconvert_exporter": "python",
   "pygments_lexer": "ipython3",
   "version": "3.12.7"
  }
 },
 "nbformat": 4,
 "nbformat_minor": 5
}
