{
 "cells": [
  {
   "cell_type": "code",
   "execution_count": 5,
   "id": "55181571-84e4-4825-a076-55ea6e0d9d36",
   "metadata": {},
   "outputs": [
    {
     "name": "stdin",
     "output_type": "stream",
     "text": [
      "enter number1: 2\n",
      "enter number2: 3\n",
      "enter number3: 4\n",
      "enter number4: 2\n",
      "enter number5: 3\n"
     ]
    },
    {
     "name": "stdout",
     "output_type": "stream",
     "text": [
      "[2, 3, 4, 2, 3]\n"
     ]
    }
   ],
   "source": [
    "'''list components....input version'''\n",
    "nums=[int(input(f\"enter number{i+1}:\")) for i in range(5)]\n",
    "print(nums)"
   ]
  },
  {
   "cell_type": "code",
   "execution_count": 9,
   "id": "a910cd47-2e12-4e07-abd5-7682a69bfc9b",
   "metadata": {},
   "outputs": [
    {
     "name": "stdin",
     "output_type": "stream",
     "text": [
      "Enter nums with space: 66 633 3 67 976 3 00\n"
     ]
    },
    {
     "name": "stdout",
     "output_type": "stream",
     "text": [
      "[66, 633, 3, 67, 976, 3, 0]\n"
     ]
    }
   ],
   "source": [
    "n=[int(x) for x in input(\"Enter numbers with space:\").split()]\n",
    "print(n)"
   ]
  },
  {
   "cell_type": "code",
   "execution_count": 1,
   "id": "e1440848-1374-4fe7-96d3-30dd82908cfa",
   "metadata": {},
   "outputs": [
    {
     "name": "stdin",
     "output_type": "stream",
     "text": [
      "enter table size: 5\n"
     ]
    },
    {
     "name": "stdout",
     "output_type": "stream",
     "text": [
      "Tables of math\n",
      "[1, 2, 3, 4, 5]\n",
      "[2, 4, 6, 8, 10]\n",
      "[3, 6, 9, 12, 15]\n",
      "[4, 8, 12, 16, 20]\n",
      "[5, 10, 15, 20, 25]\n"
     ]
    }
   ],
   "source": [
    "#nested lc...loop within loop in a single lc\n",
    "n=int(input(\"enter table size:\"))\n",
    "table=[[i*j for j  in range(1,n+1)] for i in range(1,n+1)]\n",
    "print(\"Tables of math\")\n",
    "for row in table:\n",
    "    print(row)"
   ]
  },
  {
   "cell_type": "code",
   "execution_count": 5,
   "id": "d2aad311-15f7-40cd-9756-ac20e5a20603",
   "metadata": {},
   "outputs": [
    {
     "name": "stdin",
     "output_type": "stream",
     "text": [
      "Enter 9 rows with spces 1 2 3 4 5 6 7 8 9\n"
     ]
    },
    {
     "name": "stdout",
     "output_type": "stream",
     "text": [
      "[1, 2, 3]\n",
      "[4, 5, 6]\n",
      "[7, 8, 9]\n"
     ]
    }
   ],
   "source": [
    "'''create a nxn matrix with manual input numbers \n",
    "    input separated spaces\n",
    "    print all the rows in lc only'''\n",
    "nums=input(\"Enter 9 rows with spces\").split()\n",
    "if len(nums)!=9:\n",
    "    print(\"Enter exactly 9 numbers:\")\n",
    "else:\n",
    "    numbers=[int(x) for x in nums]\n",
    "    matrix=[[numbers[i*3+j] for j in range(3)] for i in range(3)]\n",
    "for r in matrix:\n",
    "    print(r)"
   ]
  },
  {
   "cell_type": "code",
   "execution_count": 11,
   "id": "0cfa0835-965d-4d38-bc70-bb423ea81a79",
   "metadata": {},
   "outputs": [
    {
     "name": "stdin",
     "output_type": "stream",
     "text": [
      "Enter 9 rows with spces 23 1 3 543 564 3 44  5 1\n"
     ]
    },
    {
     "name": "stdout",
     "output_type": "stream",
     "text": [
      "[23, 1, 3]\n",
      "[543, 564, 3]\n",
      "[44, 5, 1]\n",
      "[23, 543, 44]\n",
      "[1, 564, 5]\n",
      "[3, 3, 1]\n"
     ]
    }
   ],
   "source": [
    "#transpose of a matrix...\n",
    "nums=input(\"Enter 9 rows with spces\").split()\n",
    "if len(nums)!=9:\n",
    "    print(\"Enter exactly 9 numbers:\")\n",
    "else:\n",
    "    numbers=[int(x) for x in nums]\n",
    "    matrix=[[numbers[i*3+j] for j in range(3)] for i in range(3)]\n",
    "    transpose=[[matrix[i][j] for i in range(3)] for j in range(3)]\n",
    "for r in matrix:\n",
    "    print(r)\n",
    "for r in transpose:\n",
    "    print(r)"
   ]
  },
  {
   "cell_type": "code",
   "execution_count": null,
   "id": "7c76b52a-bc8f-4b56-bec5-f7931f969d76",
   "metadata": {},
   "outputs": [],
   "source": [
    "n=int(input(\"Ener size:\"))\n",
    "num=[int(x) for x in input(\"Enter nummbers\").split()[:n*n]]\n",
    "matrix=[[num[i*n+j] for j in range(n)] for i in range(n)]\n",
    "for k in matrix:\n",
    "    print(k)\n",
    "flat=[k for r in matrix for k in r]\n",
    "print(flat)"
   ]
  },
  {
   "cell_type": "code",
   "execution_count": 7,
   "id": "982e78cc-e507-44b2-94cc-5a1881406b08",
   "metadata": {},
   "outputs": [
    {
     "ename": "SyntaxError",
     "evalue": "incomplete input (3054341445.py, line 1)",
     "output_type": "error",
     "traceback": [
      "  \u001b[36mCell\u001b[39m\u001b[36m \u001b[39m\u001b[32mIn[7]\u001b[39m\u001b[32m, line 1\u001b[39m\n\u001b[31m    \u001b[39m\u001b[31m'''Code to consider a lc : to calculate square of 16 values as non\u001b[39m\n    ^\n\u001b[31mSyntaxError\u001b[39m\u001b[31m:\u001b[39m incomplete input\n"
     ]
    }
   ],
   "source": [
    "'''Code to consider a lc : to calculate square of 16 values as non \n",
    "    matrix and print the list of  squares is each row\n",
    "    3=9 values 1 2 3 4 5 6 7 8 9\n",
    "    1 2 3    [1,4,9]\n",
    "    4 5 6    [16,25,36]\n",
    "    7 8 9    [49,64,81]\n",
    "\n",
    "#(\n",
    "    n = 4\n",
    "num = [int(x) for x in input(\"Enter 16 numbers (space-separated): \").split()[:n*n]]\n",
    "squared_values = [x**2 for x in num]\n",
    "print(\"List of squares, grouped into rows:\")\n",
    "for i in range(n):\n",
    "    row_start = i * n\n",
    "    row_end = (i + 1) * n\n",
    "    print(squared_values[row_start:row_end])\n",
    ")#"
   ]
  },
  {
   "cell_type": "code",
   "execution_count": 5,
   "id": "76efcfb4-6245-4b92-ab69-165027519888",
   "metadata": {},
   "outputs": [
    {
     "name": "stdin",
     "output_type": "stream",
     "text": [
      "Enter the size: 3\n",
      "Enter {n} numbers (space-separated):  1 2 3 4 4 5 6 7 8 9 101\n"
     ]
    },
    {
     "name": "stdout",
     "output_type": "stream",
     "text": [
      "List of squares, grouped into rows:\n",
      "[1, 4, 9]\n",
      "[16, 16, 25]\n",
      "[36, 49, 64]\n"
     ]
    }
   ],
   "source": [
    "n = int(input(\"Enter the size:\"))\n",
    "num = [int(x) for x in input(\"Enter {n} numbers (space-separated): \").split()[:n*n]]\n",
    "squared_values = [x**2 for x in num]\n",
    "print(\"List of squares, grouped into rows:\")\n",
    "for i in range(n):\n",
    "    row_start = i * n\n",
    "    row_end = (i + 1) * n\n",
    "    print(squared_values[row_start:row_end])\n"
   ]
  },
  {
   "cell_type": "code",
   "execution_count": 17,
   "id": "539049ed-931b-4f38-ab71-f05951e2bd52",
   "metadata": {},
   "outputs": [
    {
     "name": "stdin",
     "output_type": "stream",
     "text": [
      "Enter numbers separated by spaces:  1 2 3 5 4 56 \n"
     ]
    },
    {
     "name": "stdout",
     "output_type": "stream",
     "text": [
      "Odd numbers in the list: [1, 3, 5]\n"
     ]
    }
   ],
   "source": [
    "#odd number\n",
    "numbers = input('Enter numbers separated by spaces: ')\n",
    "number_list = [int(num) for num in numbers.split()]\n",
    "odd_numbers_list = [num for num in number_list if num % 2 != 0]\n",
    "print(\"Odd numbers in the list:\", odd_numbers_list)\n"
   ]
  },
  {
   "cell_type": "code",
   "execution_count": 21,
   "id": "5bc74039-1e7a-4b46-8e08-d2bd5f3750cc",
   "metadata": {},
   "outputs": [
    {
     "name": "stdin",
     "output_type": "stream",
     "text": [
      "Enter numbers separated by spaces:  1 2 23 4 5 6 87\n"
     ]
    },
    {
     "name": "stdout",
     "output_type": "stream",
     "text": [
      "Even numbers in the list: [2, 4, 6]\n"
     ]
    }
   ],
   "source": [
    "#Even number\n",
    "numbers = input('Enter numbers separated by spaces: ')\n",
    "number_list = [int(num) for num in numbers.split()]\n",
    "even_numbers_list = [num for num in number_list if num % 2 ==0]\n",
    "print(\"Even numbers in the list:\", even_numbers_list)\n"
   ]
  },
  {
   "cell_type": "code",
   "execution_count": 23,
   "id": "054b5566-b0c5-49e7-a181-9715b2e614a2",
   "metadata": {},
   "outputs": [
    {
     "name": "stdout",
     "output_type": "stream",
     "text": [
      "[[1 1 1 0 1 1]\n",
      " [1 0 0 1 1 0]\n",
      " [0 1 1 0 0 1]\n",
      " [0 0 1 1 0 0]\n",
      " [1 1 0 1 0 1]\n",
      " [0 0 1 0 0 1]]\n"
     ]
    }
   ],
   "source": [
    "import numpy as np\n",
    "\n",
    "def generate_binary_matrix(n):\n",
    "    if n % 2 != 0:\n",
    "        raise ValueError(\"Please provide an even number.\")\n",
    "    # Random 0-1 matrix of size n x n\n",
    "    matrix = np.random.randint(0, 2, size=(n, n))\n",
    "    return matrix\n",
    "\n",
    "even_number = 6  # You can change this to any even number\n",
    "result = generate_binary_matrix(even_number)\n",
    "print(result)\n"
   ]
  },
  {
   "cell_type": "code",
   "execution_count": null,
   "id": "ba188ec5-ba2d-42dd-a803-cf936793a792",
   "metadata": {},
   "outputs": [],
   "source": [
    "#prime numbbers+"
   ]
  }
 ],
 "metadata": {
  "kernelspec": {
   "display_name": "Python 3 (ipykernel)",
   "language": "python",
   "name": "python3"
  },
  "language_info": {
   "codemirror_mode": {
    "name": "ipython",
    "version": 3
   },
   "file_extension": ".py",
   "mimetype": "text/x-python",
   "name": "python",
   "nbconvert_exporter": "python",
   "pygments_lexer": "ipython3",
   "version": "3.12.7"
  }
 },
 "nbformat": 4,
 "nbformat_minor": 5
}
