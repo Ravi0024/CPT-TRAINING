{
 "cells": [
  {
   "cell_type": "code",
   "execution_count": 13,
   "id": "fa972608-b2fe-483d-a422-92e73f657292",
   "metadata": {},
   "outputs": [],
   "source": [
    "#user defined fuction wit args"
   ]
  },
  {
   "cell_type": "code",
   "execution_count": 15,
   "id": "888c4672-f9a0-493c-8d64-15620ae028bf",
   "metadata": {},
   "outputs": [
    {
     "name": "stdin",
     "output_type": "stream",
     "text": [
      "Enter the value of a: 3\n",
      "Enter the value of b: 3\n"
     ]
    },
    {
     "name": "stdout",
     "output_type": "stream",
     "text": [
      "Sum of 2 umers: 6\n"
     ]
    }
   ],
   "source": [
    "def summate(x,y):\n",
    "    print(\"Sum of 2 umers:\",x+y)\n",
    "a=int(input(\"Enter the value of a:\"))\n",
    "b=int(input(\"Enter the value of b:\"))\n",
    "summate(a,b)"
   ]
  },
  {
   "cell_type": "code",
   "execution_count": 27,
   "id": "c8de24fe-0721-4e5b-84e7-a6760e5a4dd1",
   "metadata": {},
   "outputs": [
    {
     "name": "stdin",
     "output_type": "stream",
     "text": [
      "Enter the base 2\n"
     ]
    },
    {
     "name": "stdout",
     "output_type": "stream",
     "text": [
      "4\n",
      "8\n"
     ]
    }
   ],
   "source": [
    "#default arg\n",
    "def power(base,expo=2):\n",
    "    return base ** expo\n",
    "num=int(input(\"Enter the base\"))\n",
    "print(power(num))\n",
    "print(power(num,3))"
   ]
  },
  {
   "cell_type": "code",
   "execution_count": 29,
   "id": "8ad252a0-ba2e-47a5-975b-09b011475d78",
   "metadata": {},
   "outputs": [
    {
     "name": "stdin",
     "output_type": "stream",
     "text": [
      "Enter a: 12\n",
      "Enter b: 13\n"
     ]
    },
    {
     "name": "stdout",
     "output_type": "stream",
     "text": [
      "Sum: 25\n",
      "Subtract -1\n",
      "Product 156\n"
     ]
    }
   ],
   "source": [
    "#multiple return values from a single fuction\n",
    "def operate(a,b):\n",
    "    return a+b, a-b, a*b\n",
    "a=int(input(\"Enter a:\"))\n",
    "b=int(input(\"Enter b:\"))\n",
    "sum, diff, prod= operate(a,b)\n",
    "print(\"Sum:\",sum)\n",
    "print(\"Subtract\",diff)\n",
    "print(\"Product\",prod)"
   ]
  },
  {
   "cell_type": "code",
   "execution_count": 31,
   "id": "b4335ae5-9541-4c0a-8474-7f010bf6a700",
   "metadata": {},
   "outputs": [
    {
     "name": "stdin",
     "output_type": "stream",
     "text": [
      "Enter a number: 12\n"
     ]
    },
    {
     "name": "stdout",
     "output_type": "stream",
     "text": [
      "144\n"
     ]
    }
   ],
   "source": [
    "#anonumus fuction lambda\n",
    "#lambda var: operation\n",
    "num = int(input(\"Enter a number:\"))\n",
    "square=lambda num: num*num\n",
    "print(square(num))"
   ]
  },
  {
   "cell_type": "code",
   "execution_count": 33,
   "id": "7c755ad2-6717-48b5-8277-e4eef11d7c9a",
   "metadata": {},
   "outputs": [
    {
     "name": "stdout",
     "output_type": "stream",
     "text": [
      "outer function\n",
      "inner function\n"
     ]
    }
   ],
   "source": [
    "#nested fun\n",
    "def hi():\n",
    "    def hello():\n",
    "        print(\"inner function\")\n",
    "    print(\"outer function\")\n",
    "    hello()\n",
    "hi()"
   ]
  },
  {
   "cell_type": "code",
   "execution_count": 35,
   "id": "a0b24584-c837-4907-bb3e-13afee6f397e",
   "metadata": {},
   "outputs": [
    {
     "name": "stdin",
     "output_type": "stream",
     "text": [
      "Enter a: 1\n",
      "Enter b: 12\n"
     ]
    },
    {
     "name": "stdout",
     "output_type": "stream",
     "text": [
      "Addition: 14\n",
      "Subtract: -12\n"
     ]
    }
   ],
   "source": [
    "#nested function\n",
    "def operation(a,b):\n",
    "    def add():\n",
    "        return a+b\n",
    "    def sub():\n",
    "        return a-b\n",
    "    print(\"Addition:\",add())\n",
    "    print(\"Subtract:\",sub())\n",
    "\n",
    "a=int(input(\"Enter a:\"))\n",
    "b==int(input(\"Enter b:\"))\n",
    "operation(a,b)"
   ]
  },
  {
   "cell_type": "code",
   "execution_count": 51,
   "id": "7c173527-95b2-424e-b6d6-d404a3eecbb2",
   "metadata": {},
   "outputs": [
    {
     "name": "stdin",
     "output_type": "stream",
     "text": [
      "Enter a: 12\n",
      "Enter b: 20\n"
     ]
    },
    {
     "name": "stdout",
     "output_type": "stream",
     "text": [
      "Power: 3833759992447475122176\n",
      "factorial: 479001600\n"
     ]
    }
   ],
   "source": [
    "'''\n",
    "write a program to calculate the factorial and power of given numbers \n",
    "by creating the nested loop with in loop where \n",
    "a=5 and b=3 \n",
    "calculate the factorial for a\n",
    "calculate power for 5**3\n",
    "output:\n",
    "    factorial =120\n",
    "    power=125'''\n",
    "\n",
    "def operations(a,b):\n",
    "    def power(a,b):\n",
    "        return a**b\n",
    "    def fact(a):\n",
    "        op=1\n",
    "        for i in range(1,a+1):\n",
    "            op *=i\n",
    "        return op\n",
    "    print(\"Power:\",power(a,b))\n",
    "    print(\"factorial:\",fact(a))\n",
    "a=int(input(\"Enter a:\"))\n",
    "b=int(input(\"Enter b:\"))\n",
    "operations(a,b)"
   ]
  },
  {
   "cell_type": "code",
   "execution_count": 47,
   "id": "7fd903fc-73c8-4dab-8687-4975bc8096f0",
   "metadata": {},
   "outputs": [
    {
     "name": "stdout",
     "output_type": "stream",
     "text": [
      "Factorial of 5: 120\n",
      "5 to the power of 3: 125\n"
     ]
    }
   ],
   "source": [
    "a = 5 \n",
    "b = 3 \n",
    "factorial = 1\n",
    "for i in range(1, a + 1):\n",
    "    factorial *= i\n",
    "base = 5\n",
    "power = 1\n",
    "for _ in range(b):\n",
    "    power *= base\n",
    "    \n",
    "print(f\"Factorial of {a}: {factorial}\")\n",
    "print(f\"{base} to the power of {b}: {power}\")\n"
   ]
  },
  {
   "cell_type": "code",
   "execution_count": 59,
   "id": "af1f06a0-c9f9-4afd-984b-822fb15fcf6d",
   "metadata": {},
   "outputs": [
    {
     "name": "stdin",
     "output_type": "stream",
     "text": [
      "Enter the number: 22\n"
     ]
    },
    {
     "name": "stdout",
     "output_type": "stream",
     "text": [
      "Factorial 73185187344722251685917129061596359994436879170423331597220791224873045503248922811481956548134913475324429128068839519292427638045690327208977109451014144000000000000000000000000000000000000000000\n"
     ]
    }
   ],
   "source": [
    "def fact(n):\n",
    "    if n==0 or n==1:\n",
    "        return 1\n",
    "    return n*fact(n-1)\n",
    "def sfact(n):\n",
    "    if n==1:\n",
    "        return 1\n",
    "    return fact(n)*sfact(n-1)\n",
    "num=int(input(\"Enter the number:\"))\n",
    "print(\"Factorial\", sfact(num))"
   ]
  },
  {
   "cell_type": "code",
   "execution_count": null,
   "id": "6c114d80-4405-4577-8e5c-7b2cf4fb686a",
   "metadata": {},
   "outputs": [],
   "source": []
  }
 ],
 "metadata": {
  "kernelspec": {
   "display_name": "Python 3 (ipykernel)",
   "language": "python",
   "name": "python3"
  },
  "language_info": {
   "codemirror_mode": {
    "name": "ipython",
    "version": 3
   },
   "file_extension": ".py",
   "mimetype": "text/x-python",
   "name": "python",
   "nbconvert_exporter": "python",
   "pygments_lexer": "ipython3",
   "version": "3.12.7"
  }
 },
 "nbformat": 4,
 "nbformat_minor": 5
}
