{
 "cells": [
  {
   "cell_type": "code",
   "execution_count": 9,
   "id": "ee471708-422c-474a-8a93-02233e46b4d7",
   "metadata": {},
   "outputs": [
    {
     "name": "stdout",
     "output_type": "stream",
     "text": [
      "Oject variable: 11\n",
      "Class variable 0\n",
      "Oject variable: 12\n",
      "Class variable 0\n",
      "Oject variable: 13\n",
      "Class variable 0\n"
     ]
    }
   ],
   "source": [
    "'''del method / class variable with const access'''\n",
    "\n",
    "class abc():\n",
    "    class_var=0\n",
    "    def __init__(self,var):\n",
    "        self.var=var\n",
    "        print(\"Oject variable:\", var)\n",
    "        print(\"Class variable\",abc.class_var)\n",
    "\n",
    "obj1=abc(11)\n",
    "obj2=abc(12)\n",
    "obj3=abc(13)"
   ]
  },
  {
   "cell_type": "code",
   "execution_count": 11,
   "id": "e5092c39-9f03-41fa-988f-c11ac575dbf8",
   "metadata": {},
   "outputs": [
    {
     "name": "stdout",
     "output_type": "stream",
     "text": [
      "Class variable 0\n",
      "Oject variable: 11\n",
      "Class variable 0\n",
      "Oject variable: 12\n",
      "Class variable 0\n",
      "Oject variable: 13\n",
      "Class variable 0\n"
     ]
    }
   ],
   "source": [
    "class abc():\n",
    "    class_var=0\n",
    "    print(\"Class variable\",class_var)\n",
    "    def __init__(self,var):\n",
    "        self.var=var\n",
    "        print(\"Oject variable:\", var)\n",
    "        print(\"Class variable\",abc.class_var)\n",
    "\n",
    "obj1=abc(11)\n",
    "obj2=abc(12)\n",
    "obj3=abc(13)"
   ]
  },
  {
   "cell_type": "code",
   "execution_count": 15,
   "id": "a5d06dbe-465c-4a27-95f0-850400ade27a",
   "metadata": {},
   "outputs": [
    {
     "name": "stdout",
     "output_type": "stream",
     "text": [
      "Class variable 0\n",
      "Oject variable: 11\n",
      "Class variable 10\n",
      "Oject variable: 12\n",
      "Class variable 20\n",
      "Oject variable: 13\n",
      "Class variable 30\n"
     ]
    }
   ],
   "source": [
    "class abc():\n",
    "    class_var=0\n",
    "    print(\"Class variable\",class_var)\n",
    "    def __init__(self,var):\n",
    "        abc.class_var +=10\n",
    "        self.var=var\n",
    "        print(\"Oject variable:\", var)\n",
    "        print(\"Class variable\",abc.class_var)\n",
    "    def __del__(self):\n",
    "        abc.class_var-=1\n",
    "        print(\"obj var with %d is deleted\"%self.var)\n",
    "\n",
    "obj1=abc(11)\n",
    "obj2=abc(12)\n",
    "obj3=abc(13)"
   ]
  },
  {
   "cell_type": "code",
   "execution_count": 3,
   "id": "773d0138-3402-4797-b205-e5790e4583bb",
   "metadata": {},
   "outputs": [
    {
     "name": "stdin",
     "output_type": "stream",
     "text": [
      "Enter the value of a: 12\n",
      "Enter the value of b: 24\n"
     ]
    },
    {
     "name": "stdout",
     "output_type": "stream",
     "text": [
      "Calc obj created......\n",
      "Created Calc obj was deleted.....\n",
      "Addition: 36\n",
      "Subtract: -12\n"
     ]
    }
   ],
   "source": [
    "class calc:\n",
    "    def __init__(self,a,b):\n",
    "        self.a=a\n",
    "        self.b=b\n",
    "        print(\"Calc obj created......\")\n",
    "    def add(self):\n",
    "        return self.a+self.b\n",
    "    def sub(self):\n",
    "        return self.a-self.b\n",
    "    def __del__(self):\n",
    "        print(\"Created Calc obj was deleted.....\")\n",
    "a= int(input(\"Enter the value of a:\"))\n",
    "b= int(input(\"Enter the value of b:\"))\n",
    "c= calc(a,b)\n",
    "print(\"Addition:\", c.add())\n",
    "print(\"Subtract:\", c.sub())\n",
    "del calc"
   ]
  },
  {
   "cell_type": "code",
   "execution_count": 5,
   "id": "f9c5fe03-024c-41ae-90ca-06175b95afec",
   "metadata": {},
   "outputs": [
    {
     "name": "stdin",
     "output_type": "stream",
     "text": [
      "Enter value: 3\n"
     ]
    },
    {
     "name": "stdout",
     "output_type": "stream",
     "text": [
      "Constructor: Circle with radius 3 created.\n",
      "Area of circle: 28.27\n",
      "Circumference of circle: 18.85\n",
      "Constructor deleted: Radius removed.\n"
     ]
    }
   ],
   "source": [
    "'''code to calc area and circumference of a circle by using a class\n",
    "rectangle , create a constructor and separate functions for area circ and delete \n",
    "the constructor , import math pi value'''\n",
    "\n",
    "import math\n",
    "\n",
    "class Rectangle:\n",
    "    def __init__(self, radius):\n",
    "        self.radius = radius\n",
    "        print(f\"Constructor: Circle with radius {self.radius} created.\")\n",
    "\n",
    "    def calc_area(self):\n",
    "        area = math.pi * self.radius ** 2\n",
    "        print(f\"Area of circle: {area:.2f}\")\n",
    "        return area\n",
    "\n",
    "    def calc_circumference(self):\n",
    "        circumference = 2 * math.pi * self.radius\n",
    "        print(f\"Circumference of circle: {circumference:.2f}\")\n",
    "        return circumference\n",
    "\n",
    "    def delete_constructor(self):\n",
    "        del self.radius\n",
    "        print(\"Constructor deleted: Radius removed.\")\n",
    "\n",
    "# Example usage\n",
    "circle = Rectangle(int(input(\"Enter value:\")))\n",
    "circle.calc_area()\n",
    "circle.calc_circumference()\n",
    "circle.delete_constructor()\n"
   ]
  },
  {
   "cell_type": "code",
   "execution_count": 11,
   "id": "468df1d4-c884-455f-906a-6a961269a356",
   "metadata": {},
   "outputs": [
    {
     "name": "stdout",
     "output_type": "stream",
     "text": [
      "6\n",
      "[1, 2, 3, 100, 5, 6, 7, 8, 9, 10]\n"
     ]
    }
   ],
   "source": [
    "class Numbers:\n",
    "    def __init__(self,myList):\n",
    "        self.myList=myList\n",
    "    def __getitem__(self, index):\n",
    "        return self.myList[index]\n",
    "    def __setitem__(self,index,val):\n",
    "        self.myList[index]=val\n",
    "        \n",
    "NumList= Numbers([1,2,3,4,5,6,7,8,9,10])\n",
    "print(NumList[5])\n",
    "NumList[3]=100\n",
    "print(NumList.myList)"
   ]
  },
  {
   "cell_type": "code",
   "execution_count": 1,
   "id": "97d4390b-2307-40ea-a892-554f92729547",
   "metadata": {},
   "outputs": [
    {
     "name": "stdout",
     "output_type": "stream",
     "text": [
      "Sum of row 0:  3\n",
      "Sum of row 2:  11\n"
     ]
    }
   ],
   "source": [
    "#math evaluation on get item setitem\n",
    "'''code to add the sum of rows in a 2-d list'''\n",
    "\n",
    "class RowSum:\n",
    "    def __init__(self,matrix):\n",
    "        self.matrix=matrix\n",
    "    def __getitem__(self,row):\n",
    "        return sum(self.matrix[row])\n",
    "    def __setitem__(self,row,new_row):\n",
    "        self.matrix[row]=new_row\n",
    "        \n",
    "m=RowSum([[1,2],[3,4],[5,6]])\n",
    "#sum of 0 index row values=3\n",
    "#sum of 2 index row values=11\n",
    "\n",
    "print(\"Sum of row 0: \",m[0])\n",
    "print(\"Sum of row 2: \",m[2])\n",
    "m[1]=[10,20]"
   ]
  },
  {
   "cell_type": "code",
   "execution_count": null,
   "id": "d47fcc76-ea49-4a27-bf25-60b31797bf85",
   "metadata": {},
   "outputs": [],
   "source": []
  }
 ],
 "metadata": {
  "kernelspec": {
   "display_name": "Python 3 (ipykernel)",
   "language": "python",
   "name": "python3"
  },
  "language_info": {
   "codemirror_mode": {
    "name": "ipython",
    "version": 3
   },
   "file_extension": ".py",
   "mimetype": "text/x-python",
   "name": "python",
   "nbconvert_exporter": "python",
   "pygments_lexer": "ipython3",
   "version": "3.12.7"
  }
 },
 "nbformat": 4,
 "nbformat_minor": 5
}
