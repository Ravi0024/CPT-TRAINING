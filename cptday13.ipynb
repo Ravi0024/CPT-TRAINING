{
 "cells": [
  {
   "cell_type": "code",
   "execution_count": 13,
   "id": "e59c73a3-6fce-4abe-ac51-8d63ad616f9d",
   "metadata": {},
   "outputs": [
    {
     "name": "stdin",
     "output_type": "stream",
     "text": [
      "Enter the name: RT\n",
      "Enter the marks: 85\n"
     ]
    },
    {
     "name": "stdout",
     "output_type": "stream",
     "text": [
      "Student name:RT\n",
      "Student marks:85\n"
     ]
    }
   ],
   "source": [
    "class student:\n",
    "    def __init__(s,name,marks):\n",
    "        s.name=name\n",
    "        s.marks=marks\n",
    "    def display(self):\n",
    "        print(f\"Student name:{s.name}\")\n",
    "        print(f\"Student marks:{s.marks}\")\n",
    "name=str(input(\"Enter the name:\"))\n",
    "marks=int(input(\"Enter the marks:\"))\n",
    "s=student(name,marks)\n",
    "s.display()"
   ]
  },
  {
   "cell_type": "code",
   "execution_count": 24,
   "id": "66a9ee17-d8b8-43fc-a2c7-4a59a3bdd90b",
   "metadata": {},
   "outputs": [
    {
     "name": "stdin",
     "output_type": "stream",
     "text": [
      "Enter the name: RT\n",
      "Enter the marks: 68\n"
     ]
    },
    {
     "name": "stdout",
     "output_type": "stream",
     "text": [
      "Student name: RT\n",
      "Student marks: 68\n"
     ]
    }
   ],
   "source": [
    "class student:\n",
    "    def __init__(self,name,marks):\n",
    "        self.name=name\n",
    "        self.marks=marks\n",
    "    @classmethod\n",
    "    def input(cls):\n",
    "        name=str(input(\"Enter the name:\"))\n",
    "        marks=int(input(\"Enter the marks:\"))\n",
    "        return cls(name,marks)\n",
    "    def display(self):\n",
    "        print(f\"Student name: {self.name}\")\n",
    "        print(f\"Student marks: {self.marks}\")\n",
    "s=student.input()\n",
    "s.display()"
   ]
  },
  {
   "cell_type": "code",
   "execution_count": 28,
   "id": "7e5363e7-8ba7-4e81-82d2-0dc0bf5ff951",
   "metadata": {},
   "outputs": [
    {
     "name": "stdin",
     "output_type": "stream",
     "text": [
      "Enter the product name: AC\n",
      "Enter the base price: 49990\n",
      "Enter tax_rate in %: 36\n"
     ]
    },
    {
     "name": "stdout",
     "output_type": "stream",
     "text": [
      " Final price of AC is Rs.67986.40\n"
     ]
    }
   ],
   "source": [
    "'''code to illustrate a produt with its price by normal instance\n",
    "    and calculate the products tax rate by 10% in a class method and print\n",
    "    the total amount to be paid...'''\n",
    "class product:\n",
    "    tax_rate=0.18\n",
    "    def __init__(self,name,price):\n",
    "        self.name=name\n",
    "        self.price=price\n",
    "    def finalprice(self):\n",
    "        total=self.price*(1+product.tax_rate)\n",
    "        print(f\" Final price of {self.name} is Rs.{total:.2f}\")\n",
    "    @classmethod\n",
    "    def settax(cls,rate):\n",
    "        cls.tax_rate=rate/100\n",
    "name=str(input(\"Enter the product name:\"))\n",
    "price=float(input(\"Enter the base price:\"))\n",
    "rate=int(input(\"Enter tax_rate in %:\"))\n",
    "product.settax(rate)\n",
    "item=product(name,price)\n",
    "item.finalprice()"
   ]
  },
  {
   "cell_type": "code",
   "execution_count": 32,
   "id": "631aeed1-03ed-4f97-a123-0ac3af7b10d9",
   "metadata": {},
   "outputs": [
    {
     "name": "stdin",
     "output_type": "stream",
     "text": [
      "Enter the value of a: 22\n",
      "Enter the value of b: 3\n"
     ]
    },
    {
     "name": "stdout",
     "output_type": "stream",
     "text": [
      "Addition result: 25\n"
     ]
    }
   ],
   "source": [
    "'''basic mah operation using @classMethod'''\n",
    "class calculator:\n",
    "    def __init__(s,a,b):\n",
    "        s.a=a\n",
    "        s.b=b\n",
    "    @classmethod\n",
    "    def input(cls):\n",
    "        a=int(input(\"Enter the value of a:\"))\n",
    "        b=int(input(\"Enter the value of b:\"))\n",
    "        return cls(a,b)\n",
    "    def add(s):\n",
    "        return s.a+s.b\n",
    "c=calculator.input()\n",
    "print(\"Addition result:\",c.add())"
   ]
  },
  {
   "cell_type": "code",
   "execution_count": 5,
   "id": "b5ad9dc1-2d14-44b9-82b0-d6bff10fe918",
   "metadata": {},
   "outputs": [
    {
     "name": "stdin",
     "output_type": "stream",
     "text": [
      "Enter the value of a:  2\n",
      "Enter the value of b:  6\n"
     ]
    },
    {
     "name": "stdout",
     "output_type": "stream",
     "text": [
      "Addition result: 8\n",
      "Subtraction result: -4\n",
      "Multiplication result: 12\n",
      "Division result: 0.3333333333333333\n"
     ]
    }
   ],
   "source": [
    "class Calculator:\n",
    "    def __init__(self, a, b):\n",
    "        self.a = a\n",
    "        self.b = b\n",
    "\n",
    "    @classmethod\n",
    "    def input(cls):\n",
    "        a = int(input(\"Enter the value of a: \"))\n",
    "        b = int(input(\"Enter the value of b: \"))\n",
    "        return cls(a, b)\n",
    "\n",
    "    def add(self):\n",
    "        return self.a + self.b\n",
    "\n",
    "    def subtract(self):\n",
    "        return self.a - self.b\n",
    "\n",
    "    def multiply(self):\n",
    "        return self.a * self.b\n",
    "\n",
    "    def divide(self):\n",
    "        return self.a / self.b if self.b != 0 else \"Division by zero is not allowed.\"\n",
    "\n",
    "# Create calculator object and return operation results\n",
    "c = Calculator.input()\n",
    "print(\"Addition result:\", c.add())\n",
    "print(\"Subtraction result:\", c.subtract())\n",
    "print(\"Multiplication result:\", c.multiply())\n",
    "print(\"Division result:\", c.divide())\n"
   ]
  },
  {
   "cell_type": "code",
   "execution_count": 13,
   "id": "1a3d386f-f503-4199-af49-4c329c681cc9",
   "metadata": {},
   "outputs": [
    {
     "name": "stdin",
     "output_type": "stream",
     "text": [
      "Enter the value of a: 2\n",
      "Enter the value of b: 3\n"
     ]
    },
    {
     "name": "stdout",
     "output_type": "stream",
     "text": [
      "Addition: 5\n",
      "Subtraction: -1\n",
      "Product: 6\n",
      "Division: 0.6666666666666666\n"
     ]
    }
   ],
   "source": [
    "'''basic mah operation using @classMethod'''\n",
    "class calculator:\n",
    "    def __init__(s,a,b):\n",
    "        s.a=a\n",
    "        s.b=b\n",
    "    @classmethod\n",
    "    def input(cls):\n",
    "        a=int(input(\"Enter the value of a:\"))\n",
    "        b=int(input(\"Enter the value of b:\"))\n",
    "        return cls(a,b)\n",
    "    def op(s):\n",
    "        print(\"Addition:\",s.a+s.b)\n",
    "        print(\"Subtraction:\",s.a-s.b)\n",
    "        print(\"Product:\",s.a*s.b)\n",
    "        print(\"Division:\",s.a/s.b)\n",
    "        \n",
    "c=calculator.input()\n",
    "c.op()"
   ]
  },
  {
   "cell_type": "code",
   "execution_count": 23,
   "id": "eadb04ad-ae4f-44c2-bf92-1cd86456c37d",
   "metadata": {},
   "outputs": [
    {
     "name": "stdin",
     "output_type": "stream",
     "text": [
      "Enter your name: RT\n"
     ]
    },
    {
     "name": "stdout",
     "output_type": "stream",
     "text": [
      "name:RT\n",
      "Student gender: Male\n"
     ]
    }
   ],
   "source": [
    "'''Static method @staticmethod'''\n",
    "\n",
    "class student:\n",
    "    gender='Male'\n",
    "    def __init__(s,name):\n",
    "        s.name=name\n",
    "    def display(s):\n",
    "        print(f\"name:{s.name}\")\n",
    "    @classmethod\n",
    "    def getname(cls):\n",
    "        return cls.gender\n",
    "        \n",
    "\n",
    "name=str(input(\"Enter your name:\"))\n",
    "s=student(name)\n",
    "s.display()\n",
    "print(\"Student gender:\",student.getname())\n"
   ]
  },
  {
   "cell_type": "code",
   "execution_count": 31,
   "id": "ce205849-86e2-4139-abae-d7097e84abd2",
   "metadata": {},
   "outputs": [
    {
     "name": "stdin",
     "output_type": "stream",
     "text": [
      "Enter your name: RT\n",
      "Enter resident or non-rsident: indian\n"
     ]
    },
    {
     "name": "stdout",
     "output_type": "stream",
     "text": [
      "name:RT\n",
      "Student gender: Male\n",
      "the person is indian\n"
     ]
    }
   ],
   "source": [
    "class student:\n",
    "    gender='Male'\n",
    "    def __init__(s,name):\n",
    "        s.name=name\n",
    "    def display(s):\n",
    "        print(f\"name:{s.name}\")\n",
    "    @classmethod\n",
    "    def getname(cls):\n",
    "        return cls.gender\n",
    "    def resident(cls):\n",
    "        return cls.gender\n",
    "\n",
    "    @staticmethod\n",
    "    def resident(type_of_resident):\n",
    "        if type_of_resident.lower()=='indian':\n",
    "            return \"the person is indian\"\n",
    "        else:\n",
    "            return \"Non-resident of india\"\n",
    "\n",
    "name=str(input(\"Enter your name:\"))\n",
    "type=input(\"Enter resident or non-rsident:\")\n",
    "s=student(name)\n",
    "s.display()\n",
    "print(\"Student gender:\",student.getname())\n",
    "print(s.resident(type))"
   ]
  },
  {
   "cell_type": "code",
   "execution_count": 35,
   "id": "30db354b-92b9-4661-ba4d-4950cf0491d7",
   "metadata": {},
   "outputs": [
    {
     "name": "stdin",
     "output_type": "stream",
     "text": [
      "Enter a value: 80\n",
      "Enter a value: 90\n"
     ]
    },
    {
     "name": "stdout",
     "output_type": "stream",
     "text": [
      "Sum: 170\n"
     ]
    }
   ],
   "source": [
    "class op:\n",
    "    @staticmethod\n",
    "    def add(a,b):\n",
    "        return a+b\n",
    "x=int(input(\"Enter a value:\"))\n",
    "y=int(input(\"Enter a value:\"))\n",
    "print(\"Sum:\",op.add(x,y))"
   ]
  },
  {
   "cell_type": "code",
   "execution_count": 37,
   "id": "4d6cd9fd-f4fd-48a9-bdd1-ac0bcd8a919f",
   "metadata": {},
   "outputs": [
    {
     "name": "stdin",
     "output_type": "stream",
     "text": [
      "Enter a value: 1\n",
      "Enter a value: 1\n"
     ]
    },
    {
     "ename": "AttributeError",
     "evalue": "type object 'op' has no attribute 'add'",
     "output_type": "error",
     "traceback": [
      "\u001b[1;31m---------------------------------------------------------------------------\u001b[0m",
      "\u001b[1;31mAttributeError\u001b[0m                            Traceback (most recent call last)",
      "Cell \u001b[1;32mIn[37], line 8\u001b[0m\n\u001b[0;32m      6\u001b[0m x\u001b[38;5;241m=\u001b[39m\u001b[38;5;28mint\u001b[39m(\u001b[38;5;28minput\u001b[39m(\u001b[38;5;124m\"\u001b[39m\u001b[38;5;124mEnter a value:\u001b[39m\u001b[38;5;124m\"\u001b[39m))\n\u001b[0;32m      7\u001b[0m y\u001b[38;5;241m=\u001b[39m\u001b[38;5;28mint\u001b[39m(\u001b[38;5;28minput\u001b[39m(\u001b[38;5;124m\"\u001b[39m\u001b[38;5;124mEnter a value:\u001b[39m\u001b[38;5;124m\"\u001b[39m))\n\u001b[1;32m----> 8\u001b[0m \u001b[38;5;28mprint\u001b[39m(\u001b[38;5;124m\"\u001b[39m\u001b[38;5;124mSum:\u001b[39m\u001b[38;5;124m\"\u001b[39m,op\u001b[38;5;241m.\u001b[39madd(x,y))\n",
      "\u001b[1;31mAttributeError\u001b[0m: type object 'op' has no attribute 'add'"
     ]
    }
   ],
   "source": [
    "class op:\n",
    "    @staticmethod\n",
    "    def operate(a,b):\n",
    "        print(\"sum:\",a+b)\n",
    "        print(\"Sub:\",a-b)\n",
    "x=int(input(\"Enter a value:\"))\n",
    "y=int(input(\"Enter a value:\"))\n",
    "print(\"Sum:\",op.add(x,y))"
   ]
  },
  {
   "cell_type": "code",
   "execution_count": 43,
   "id": "7fd7d255-ab37-4d47-9b08-4a4a2d1c1217",
   "metadata": {},
   "outputs": [
    {
     "name": "stdin",
     "output_type": "stream",
     "text": [
      "Enter number 3\n",
      "Enter number 3\n"
     ]
    },
    {
     "name": "stdout",
     "output_type": "stream",
     "text": [
      "Addition-instance 6\n"
     ]
    },
    {
     "name": "stdin",
     "output_type": "stream",
     "text": [
      "Enter number for mul: 4\n",
      "Enter another number: 4\n"
     ]
    },
    {
     "name": "stdout",
     "output_type": "stream",
     "text": [
      "Mul-static 16\n"
     ]
    }
   ],
   "source": [
    "class calc:\n",
    "    def __init__(s,a,b):\n",
    "        s.a=a\n",
    "        s.b=b\n",
    "    def add(s):\n",
    "        return s.a+s.b\n",
    "    @classmethod\n",
    "    def input(cls):\n",
    "        a=int(input(\"Enter number\"))\n",
    "        b=int(input(\"Enter number\"))\n",
    "        return cls(a,b)\n",
    "    @staticmethod\n",
    "    def mul(x,y):\n",
    "        return x*y\n",
    "\n",
    "\n",
    "c=calc.input()\n",
    "print(\"Addition-instance\",c.add())\n",
    "x=int(input(\"Enter number for mul:\"))\n",
    "y=int(input(\"Enter another number:\"))\n",
    "print(\"Mul-static\",c.mul(x,y))"
   ]
  },
  {
   "cell_type": "code",
   "execution_count": null,
   "id": "5d7a6c16-81c6-4fc6-8151-4e1e3822e936",
   "metadata": {},
   "outputs": [],
   "source": []
  }
 ],
 "metadata": {
  "kernelspec": {
   "display_name": "Python 3 (ipykernel)",
   "language": "python",
   "name": "python3"
  },
  "language_info": {
   "codemirror_mode": {
    "name": "ipython",
    "version": 3
   },
   "file_extension": ".py",
   "mimetype": "text/x-python",
   "name": "python",
   "nbconvert_exporter": "python",
   "pygments_lexer": "ipython3",
   "version": "3.12.7"
  }
 },
 "nbformat": 4,
 "nbformat_minor": 5
}
