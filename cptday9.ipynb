{
 "cells": [
  {
   "cell_type": "code",
   "execution_count": 7,
   "id": "ed4d116f-0580-420a-961d-0bfeec575b57",
   "metadata": {},
   "outputs": [
    {
     "name": "stdout",
     "output_type": "stream",
     "text": [
      "9\n",
      "This is a class method\n"
     ]
    }
   ],
   "source": [
    "class abc:\n",
    "    value=9\n",
    "    def display(self):\n",
    "        print(\"This is a class method\")\n",
    "obj1=abc()\n",
    "print(obj1.value)\n",
    "obj1.display()"
   ]
  },
  {
   "cell_type": "code",
   "execution_count": 13,
   "id": "f8006b6a-431d-4ce5-b9ef-12e2f8dc064c",
   "metadata": {},
   "outputs": [
    {
     "name": "stdin",
     "output_type": "stream",
     "text": [
      "Enter a value:  98\n"
     ]
    },
    {
     "name": "stdout",
     "output_type": "stream",
     "text": [
      "this is a class method \n",
      "Accessed value in class is  98\n"
     ]
    }
   ],
   "source": [
    "class abc():\n",
    "    def __init__(self, value):\n",
    "        print(\"this is a class method \")\n",
    "        self.value=value\n",
    "        print(\"Accessed value in class is \",value)\n",
    "num=int(input(\"Enter a value: \"))\n",
    "obj=abc(num)"
   ]
  },
  {
   "cell_type": "code",
   "execution_count": 27,
   "id": "f722726e-b83e-4379-a4c5-d1a94a35024a",
   "metadata": {},
   "outputs": [
    {
     "name": "stdout",
     "output_type": "stream",
     "text": [
      "Hello, I am RT and i am 20 years old \n"
     ]
    }
   ],
   "source": [
    "class student():\n",
    "    def __init__(self, name,age):\n",
    "        self.name=name\n",
    "        self.age=age\n",
    "    def hi(self):\n",
    "        print(f\"Hello, I am {self.name} and i am {self.age} years old. \")\n",
    "s=student('RT',20)\n",
    "s.hi()"
   ]
  },
  {
   "cell_type": "code",
   "execution_count": 49,
   "id": "ba849c0c-8f5c-4e11-a723-3afd55b0b6a2",
   "metadata": {},
   "outputs": [
    {
     "name": "stdin",
     "output_type": "stream",
     "text": [
      "Enter radius: 4\n"
     ]
    },
    {
     "name": "stdout",
     "output_type": "stream",
     "text": [
      "Area of the circle: 50.26548245743669\n"
     ]
    }
   ],
   "source": [
    "'''code to calculate the area of a circle by importing pi from math\n",
    "    and create a class for circle with a constructor,where radius is\n",
    "    considerd as an arg\n",
    "    \n",
    "    calculate and return the value to the object.'''\n",
    "\n",
    "import math\n",
    "class circle:\n",
    "    def __init__(self,radius):\n",
    "        self.radius=radius\n",
    "    def area(self):\n",
    "        return math.pi * self.radius**2\n",
    "r=int(input(\"Enter radius:\"))\n",
    "c = circle(r)\n",
    "print(\"Area of the circle:\",c.area())"
   ]
  },
  {
   "cell_type": "code",
   "execution_count": 53,
   "id": "fa928fbd-e4c8-419c-a15e-307d2f057e3f",
   "metadata": {},
   "outputs": [
    {
     "name": "stdin",
     "output_type": "stream",
     "text": [
      "Enter radius:  4\n"
     ]
    },
    {
     "name": "stdout",
     "output_type": "stream",
     "text": [
      "Area of the circle: 50.26548245743669\n",
      "Circumference of the circle: 25.132741228718345\n"
     ]
    }
   ],
   "source": [
    "import math\n",
    "class Circle:\n",
    "    def __init__(self, radius):\n",
    "        self.radius = radius\n",
    "    def area(self):\n",
    "        return math.pi * self.radius ** 2\n",
    "    def circumference(self):\n",
    "        return 2 * math.pi * self.radius\n",
    "r = int(input(\"Enter radius: \"))\n",
    "c = Circle(r)\n",
    "print(\"Area of the circle:\", c.area())\n",
    "print(\"Circumference of the circle:\", c.circumference())\n"
   ]
  },
  {
   "cell_type": "code",
   "execution_count": 57,
   "id": "7a11f344-375d-4481-aad3-32cfdbc5bb0d",
   "metadata": {},
   "outputs": [
    {
     "name": "stdin",
     "output_type": "stream",
     "text": [
      "Enter a number:  8\n"
     ]
    },
    {
     "name": "stdout",
     "output_type": "stream",
     "text": [
      "Factorial of 8 is 40320\n"
     ]
    }
   ],
   "source": [
    "''' code to find and print the factorial of a given number using a class \n",
    "    called Math and register the given number in a constructor to calculate .\n",
    "    Return the value by passing to the main function'''\n",
    "\n",
    "class Math:\n",
    "    def __init__(self, number):\n",
    "        self.number = number\n",
    "    def factorial(self):\n",
    "        result = 1\n",
    "        for i in range(2, self.number + 1):\n",
    "            result *= i\n",
    "        return result\n",
    "def main():\n",
    "    num = int(input(\"Enter a number: \"))\n",
    "    math_obj = Math(num)\n",
    "    fact = math_obj.factorial()\n",
    "    print(f\"Factorial of {num} is {fact}\")\n",
    "main()\n"
   ]
  },
  {
   "cell_type": "code",
   "execution_count": 70,
   "id": "6ea0be06-b609-45af-b159-813b289b3678",
   "metadata": {},
   "outputs": [
    {
     "name": "stdin",
     "output_type": "stream",
     "text": [
      "Enter the number: 8\n"
     ]
    },
    {
     "name": "stdout",
     "output_type": "stream",
     "text": [
      "Factorial:  40320\n"
     ]
    }
   ],
   "source": [
    "class Math:\n",
    "    def __init__(self, num):\n",
    "        self.num =num\n",
    "    def fact(self):\n",
    "        f=1\n",
    "        for i in range(1, self.num+1):\n",
    "            f*=i\n",
    "        return f\n",
    "number= int(input(\"Enter the number:\"))\n",
    "m= Math (number)\n",
    "print(\"Factorial: \", m.fact())"
   ]
  },
  {
   "cell_type": "code",
   "execution_count": null,
   "id": "c28772ae-b882-4ce1-a892-d5b1563d2e81",
   "metadata": {},
   "outputs": [],
   "source": [
    "'''code to import the sqrt function and calculate the value by creating a \n",
    "class SqurreRoot and define a function for fiding the root.\n",
    "    return the value to the main program'''\n",
    "from math import sqrt\n",
    "\n",
    "class SquareRoot:\n",
    "    def find_root(self, number):\n",
    "        if number < 0:\n",
    "            return \"Cannot find square root of a negative number\"\n",
    "        return sqrt(number)\n",
    "\n",
    "# Main program\n",
    "if __name__ == \"__main__\":\n",
    "    sr = SquareRoot()\n",
    "    value = float(input(\"Enter a number to find its square root: \"))\n",
    "    result = sr.find_root(value)\n",
    "    print(f\"The square root of {value} is {result}\")\n"
   ]
  },
  {
   "cell_type": "code",
   "execution_count": 3,
   "id": "bdd69da0-b9cc-402e-930f-690c11508819",
   "metadata": {},
   "outputs": [
    {
     "name": "stdin",
     "output_type": "stream",
     "text": [
      "Enter the number 3\n"
     ]
    },
    {
     "name": "stdout",
     "output_type": "stream",
     "text": [
      "SquareRoot:1.73\n"
     ]
    }
   ],
   "source": [
    "import math\n",
    "class SquareRoot:\n",
    "    def __init__(self,num):\n",
    "        self.num=num\n",
    "    def find_root(self):\n",
    "        return math.sqrt(self.num)\n",
    "num=float(input(\"Enter the number\"))\n",
    "s=SquareRoot(num)\n",
    "print(f\"SquareRoot:{s.find_root():.2f}\")"
   ]
  },
  {
   "cell_type": "code",
   "execution_count": 7,
   "id": "44de93b6-b3c9-4db4-ae3c-39911ebe6355",
   "metadata": {},
   "outputs": [
    {
     "name": "stdout",
     "output_type": "stream",
     "text": [
      "Even list: [32, 38]\n",
      "Odd list: [21, 33, 53]\n"
     ]
    }
   ],
   "source": [
    "'''code to modify a mutable list using a class number for acummulating even/odd\n",
    "    values into a list return the even list and odd list with last modified element '''\n",
    "\n",
    "class number:\n",
    "    even=[]\n",
    "    odd=[]\n",
    "    def __init__(self,n):\n",
    "        self.n=n\n",
    "        if n%2==0:\n",
    "            number.even.append(n)\n",
    "        else:\n",
    "            number.odd.append(n)\n",
    "            \n",
    "n1=number(21)\n",
    "n2=number(33)\n",
    "n3=number(32)\n",
    "n4=number(38)\n",
    "n5=number(53)\n",
    "print(\"Even list:\",number.even)\n",
    "print(\"Odd list:\",number.odd)"
   ]
  },
  {
   "cell_type": "code",
   "execution_count": null,
   "id": "baae15ae-a18d-4a32-a2c3-10d6c3371eca",
   "metadata": {},
   "outputs": [],
   "source": []
  }
 ],
 "metadata": {
  "kernelspec": {
   "display_name": "Python 3 (ipykernel)",
   "language": "python",
   "name": "python3"
  },
  "language_info": {
   "codemirror_mode": {
    "name": "ipython",
    "version": 3
   },
   "file_extension": ".py",
   "mimetype": "text/x-python",
   "name": "python",
   "nbconvert_exporter": "python",
   "pygments_lexer": "ipython3",
   "version": "3.12.7"
  }
 },
 "nbformat": 4,
 "nbformat_minor": 5
}
